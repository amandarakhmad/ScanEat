{
 "cells": [
  {
   "cell_type": "code",
   "execution_count": 62,
   "metadata": {},
   "outputs": [
    {
     "name": "stdout",
     "output_type": "stream",
     "text": [
      "Epoch 1/10\n"
     ]
    },
    {
     "name": "stderr",
     "output_type": "stream",
     "text": [
      "c:\\Users\\Lenovo\\AppData\\Local\\Programs\\Python\\Python312\\Lib\\site-packages\\keras\\src\\layers\\core\\embedding.py:90: UserWarning: Argument `input_length` is deprecated. Just remove it.\n",
      "  warnings.warn(\n"
     ]
    },
    {
     "name": "stdout",
     "output_type": "stream",
     "text": [
      "\u001b[1m2/2\u001b[0m \u001b[32m━━━━━━━━━━━━━━━━━━━━\u001b[0m\u001b[37m\u001b[0m \u001b[1m1s\u001b[0m 160ms/step - accuracy: 0.5243 - loss: 0.6925 - val_accuracy: 0.5000 - val_loss: 0.6914\n",
      "Epoch 2/10\n",
      "\u001b[1m2/2\u001b[0m \u001b[32m━━━━━━━━━━━━━━━━━━━━\u001b[0m\u001b[37m\u001b[0m \u001b[1m0s\u001b[0m 49ms/step - accuracy: 0.6389 - loss: 0.6867 - val_accuracy: 0.5000 - val_loss: 0.6887\n",
      "Epoch 3/10\n",
      "\u001b[1m2/2\u001b[0m \u001b[32m━━━━━━━━━━━━━━━━━━━━\u001b[0m\u001b[37m\u001b[0m \u001b[1m0s\u001b[0m 49ms/step - accuracy: 0.6354 - loss: 0.6806 - val_accuracy: 0.5000 - val_loss: 0.6851\n",
      "Epoch 4/10\n",
      "\u001b[1m2/2\u001b[0m \u001b[32m━━━━━━━━━━━━━━━━━━━━\u001b[0m\u001b[37m\u001b[0m \u001b[1m0s\u001b[0m 50ms/step - accuracy: 0.6007 - loss: 0.6733 - val_accuracy: 0.5000 - val_loss: 0.6817\n",
      "Epoch 5/10\n",
      "\u001b[1m2/2\u001b[0m \u001b[32m━━━━━━━━━━━━━━━━━━━━\u001b[0m\u001b[37m\u001b[0m \u001b[1m0s\u001b[0m 51ms/step - accuracy: 0.6736 - loss: 0.6635 - val_accuracy: 0.5000 - val_loss: 0.6783\n",
      "Epoch 6/10\n",
      "\u001b[1m2/2\u001b[0m \u001b[32m━━━━━━━━━━━━━━━━━━━━\u001b[0m\u001b[37m\u001b[0m \u001b[1m0s\u001b[0m 50ms/step - accuracy: 0.7639 - loss: 0.6520 - val_accuracy: 0.5000 - val_loss: 0.6754\n",
      "Epoch 7/10\n",
      "\u001b[1m2/2\u001b[0m \u001b[32m━━━━━━━━━━━━━━━━━━━━\u001b[0m\u001b[37m\u001b[0m \u001b[1m0s\u001b[0m 67ms/step - accuracy: 0.9479 - loss: 0.6332 - val_accuracy: 0.5000 - val_loss: 0.6707\n",
      "Epoch 8/10\n",
      "\u001b[1m2/2\u001b[0m \u001b[32m━━━━━━━━━━━━━━━━━━━━\u001b[0m\u001b[37m\u001b[0m \u001b[1m0s\u001b[0m 51ms/step - accuracy: 0.9757 - loss: 0.6144 - val_accuracy: 0.5000 - val_loss: 0.6654\n",
      "Epoch 9/10\n",
      "\u001b[1m2/2\u001b[0m \u001b[32m━━━━━━━━━━━━━━━━━━━━\u001b[0m\u001b[37m\u001b[0m \u001b[1m0s\u001b[0m 46ms/step - accuracy: 1.0000 - loss: 0.5878 - val_accuracy: 0.5833 - val_loss: 0.6580\n",
      "Epoch 10/10\n",
      "\u001b[1m2/2\u001b[0m \u001b[32m━━━━━━━━━━━━━━━━━━━━\u001b[0m\u001b[37m\u001b[0m \u001b[1m0s\u001b[0m 46ms/step - accuracy: 1.0000 - loss: 0.5487 - val_accuracy: 0.5833 - val_loss: 0.6484\n"
     ]
    },
    {
     "name": "stderr",
     "output_type": "stream",
     "text": [
      "WARNING:absl:You are saving your model as an HDF5 file via `model.save()` or `keras.saving.save_model(model)`. This file format is considered legacy. We recommend using instead the native Keras format, e.g. `model.save('my_model.keras')` or `keras.saving.save_model(model, 'my_model.keras')`. \n"
     ]
    },
    {
     "name": "stdout",
     "output_type": "stream",
     "text": [
      "Model saved successfully!\n"
     ]
    }
   ],
   "source": [
    "import pandas as pd\n",
    "import tensorflow as tf\n",
    "from sklearn.preprocessing import LabelEncoder\n",
    "from tensorflow.keras.models import Sequential\n",
    "from tensorflow.keras.layers import Dense, Embedding, Flatten\n",
    "from tensorflow.keras.optimizers import Adam\n",
    "\n",
    "# Load the dataset\n",
    "upc_data = pd.read_csv(r\"D:\\2024_09_MSIB Bangkit\\scaneat_\\upc_type.csv\")\n",
    "\n",
    "# Encode the 'type' column (food or beverage) into numeric values\n",
    "label_encoder = LabelEncoder()\n",
    "upc_data['encoded_type'] = label_encoder.fit_transform(upc_data['type'])\n",
    "\n",
    "# Define the model\n",
    "model = Sequential()\n",
    "\n",
    "# Use an embedding layer to handle the UPC codes as categorical data\n",
    "model.add(Embedding(input_dim=10000, output_dim=64, input_length=1))  # Assuming max UPC code is <10000\n",
    "model.add(Flatten())\n",
    "\n",
    "# Add a dense layer to output the class prediction (food or beverage)\n",
    "model.add(Dense(256, activation='relu'))\n",
    "model.add(Dense(128, activation='relu'))\n",
    "model.add(Dense(64, activation='relu'))\n",
    "model.add(Dense(1, activation='sigmoid'))  # Output: 0 for food, 1 for beverage\n",
    "\n",
    "# Compile the model\n",
    "model.compile(optimizer=Adam(), loss='binary_crossentropy', metrics=['accuracy'])\n",
    "\n",
    "# Prepare the UPC codes (convert them to numeric values)\n",
    "X = upc_data['upc'].astype('category').cat.codes.values\n",
    "y = upc_data['encoded_type'].values\n",
    "\n",
    "# Train the model\n",
    "model.fit(X, y, epochs=10, batch_size=32, validation_split=0.2)\n",
    "\n",
    "# Save the model\n",
    "model.save(\"upc_type_predictor.h5\")\n",
    "print(\"Model saved successfully!\")\n"
   ]
  },
  {
   "cell_type": "code",
   "execution_count": 63,
   "metadata": {},
   "outputs": [
    {
     "name": "stdout",
     "output_type": "stream",
     "text": [
      "Epoch 1/30\n",
      "\u001b[1m2/2\u001b[0m \u001b[32m━━━━━━━━━━━━━━━━━━━━\u001b[0m\u001b[37m\u001b[0m \u001b[1m1s\u001b[0m 189ms/step - accuracy: 0.3993 - loss: 0.6944 - val_accuracy: 0.5000 - val_loss: 0.6906\n",
      "Epoch 2/30\n",
      "\u001b[1m2/2\u001b[0m \u001b[32m━━━━━━━━━━━━━━━━━━━━\u001b[0m\u001b[37m\u001b[0m \u001b[1m0s\u001b[0m 58ms/step - accuracy: 0.5243 - loss: 0.6925 - val_accuracy: 0.5000 - val_loss: 0.6905\n",
      "Epoch 3/30\n",
      "\u001b[1m2/2\u001b[0m \u001b[32m━━━━━━━━━━━━━━━━━━━━\u001b[0m\u001b[37m\u001b[0m \u001b[1m0s\u001b[0m 56ms/step - accuracy: 0.5868 - loss: 0.6910 - val_accuracy: 0.5000 - val_loss: 0.6896\n",
      "Epoch 4/30\n",
      "\u001b[1m2/2\u001b[0m \u001b[32m━━━━━━━━━━━━━━━━━━━━\u001b[0m\u001b[37m\u001b[0m \u001b[1m0s\u001b[0m 66ms/step - accuracy: 0.6771 - loss: 0.6871 - val_accuracy: 0.5000 - val_loss: 0.6892\n",
      "Epoch 5/30\n",
      "\u001b[1m2/2\u001b[0m \u001b[32m━━━━━━━━━━━━━━━━━━━━\u001b[0m\u001b[37m\u001b[0m \u001b[1m0s\u001b[0m 82ms/step - accuracy: 0.6007 - loss: 0.6897 - val_accuracy: 0.5000 - val_loss: 0.6883\n",
      "Epoch 6/30\n",
      "\u001b[1m2/2\u001b[0m \u001b[32m━━━━━━━━━━━━━━━━━━━━\u001b[0m\u001b[37m\u001b[0m \u001b[1m0s\u001b[0m 47ms/step - accuracy: 0.6250 - loss: 0.6841 - val_accuracy: 0.5000 - val_loss: 0.6880\n",
      "Epoch 7/30\n",
      "\u001b[1m2/2\u001b[0m \u001b[32m━━━━━━━━━━━━━━━━━━━━\u001b[0m\u001b[37m\u001b[0m \u001b[1m0s\u001b[0m 49ms/step - accuracy: 0.6493 - loss: 0.6831 - val_accuracy: 0.5000 - val_loss: 0.6877\n",
      "Epoch 8/30\n",
      "\u001b[1m2/2\u001b[0m \u001b[32m━━━━━━━━━━━━━━━━━━━━\u001b[0m\u001b[37m\u001b[0m \u001b[1m0s\u001b[0m 53ms/step - accuracy: 0.7361 - loss: 0.6776 - val_accuracy: 0.5000 - val_loss: 0.6872\n",
      "Epoch 9/30\n",
      "\u001b[1m2/2\u001b[0m \u001b[32m━━━━━━━━━━━━━━━━━━━━\u001b[0m\u001b[37m\u001b[0m \u001b[1m0s\u001b[0m 79ms/step - accuracy: 0.6736 - loss: 0.6788 - val_accuracy: 0.5000 - val_loss: 0.6868\n",
      "Epoch 10/30\n",
      "\u001b[1m2/2\u001b[0m \u001b[32m━━━━━━━━━━━━━━━━━━━━\u001b[0m\u001b[37m\u001b[0m \u001b[1m0s\u001b[0m 58ms/step - accuracy: 0.8090 - loss: 0.6696 - val_accuracy: 0.5833 - val_loss: 0.6866\n",
      "Epoch 11/30\n",
      "\u001b[1m2/2\u001b[0m \u001b[32m━━━━━━━━━━━━━━━━━━━━\u001b[0m\u001b[37m\u001b[0m \u001b[1m0s\u001b[0m 70ms/step - accuracy: 0.8889 - loss: 0.6679 - val_accuracy: 0.5000 - val_loss: 0.6869\n",
      "Epoch 12/30\n",
      "\u001b[1m2/2\u001b[0m \u001b[32m━━━━━━━━━━━━━━━━━━━━\u001b[0m\u001b[37m\u001b[0m \u001b[1m0s\u001b[0m 64ms/step - accuracy: 0.9028 - loss: 0.6598 - val_accuracy: 0.5000 - val_loss: 0.6866\n",
      "Epoch 13/30\n",
      "\u001b[1m2/2\u001b[0m \u001b[32m━━━━━━━━━━━━━━━━━━━━\u001b[0m\u001b[37m\u001b[0m \u001b[1m0s\u001b[0m 62ms/step - accuracy: 0.9375 - loss: 0.6507 - val_accuracy: 0.5000 - val_loss: 0.6863\n",
      "Epoch 14/30\n",
      "\u001b[1m2/2\u001b[0m \u001b[32m━━━━━━━━━━━━━━━━━━━━\u001b[0m\u001b[37m\u001b[0m \u001b[1m0s\u001b[0m 71ms/step - accuracy: 0.9514 - loss: 0.6385 - val_accuracy: 0.5000 - val_loss: 0.6858\n",
      "Epoch 15/30\n",
      "\u001b[1m2/2\u001b[0m \u001b[32m━━━━━━━━━━━━━━━━━━━━\u001b[0m\u001b[37m\u001b[0m \u001b[1m0s\u001b[0m 55ms/step - accuracy: 0.9618 - loss: 0.6225 - val_accuracy: 0.5000 - val_loss: 0.6847\n",
      "Epoch 16/30\n",
      "\u001b[1m2/2\u001b[0m \u001b[32m━━━━━━━━━━━━━━━━━━━━\u001b[0m\u001b[37m\u001b[0m \u001b[1m0s\u001b[0m 54ms/step - accuracy: 0.9375 - loss: 0.6041 - val_accuracy: 0.5000 - val_loss: 0.6833\n",
      "Epoch 17/30\n",
      "\u001b[1m2/2\u001b[0m \u001b[32m━━━━━━━━━━━━━━━━━━━━\u001b[0m\u001b[37m\u001b[0m \u001b[1m0s\u001b[0m 58ms/step - accuracy: 0.9618 - loss: 0.5658 - val_accuracy: 0.5000 - val_loss: 0.6835\n",
      "Epoch 18/30\n",
      "\u001b[1m2/2\u001b[0m \u001b[32m━━━━━━━━━━━━━━━━━━━━\u001b[0m\u001b[37m\u001b[0m \u001b[1m0s\u001b[0m 65ms/step - accuracy: 1.0000 - loss: 0.5265 - val_accuracy: 0.5000 - val_loss: 0.6855\n",
      "Epoch 19/30\n",
      "\u001b[1m2/2\u001b[0m \u001b[32m━━━━━━━━━━━━━━━━━━━━\u001b[0m\u001b[37m\u001b[0m \u001b[1m0s\u001b[0m 48ms/step - accuracy: 1.0000 - loss: 0.4803 - val_accuracy: 0.5000 - val_loss: 0.6907\n"
     ]
    },
    {
     "name": "stderr",
     "output_type": "stream",
     "text": [
      "WARNING:absl:You are saving your model as an HDF5 file via `model.save()` or `keras.saving.save_model(model)`. This file format is considered legacy. We recommend using instead the native Keras format, e.g. `model.save('my_model.keras')` or `keras.saving.save_model(model, 'my_model.keras')`. \n"
     ]
    },
    {
     "name": "stdout",
     "output_type": "stream",
     "text": [
      "Optimized model saved successfully!\n"
     ]
    }
   ],
   "source": [
    "from tensorflow.keras.layers import Dropout\n",
    "model.add(Dropout(0.5))  # Add after Dense layers\n",
    "\n",
    "\n",
    "from tensorflow.keras.callbacks import EarlyStopping, ModelCheckpoint\n",
    "\n",
    "# Adding Dropout and EarlyStopping\n",
    "model = Sequential()\n",
    "model.add(Embedding(input_dim=10000, output_dim=64, input_length=1))  \n",
    "model.add(Flatten())\n",
    "model.add(Dense(256, activation='relu'))\n",
    "model.add(Dropout(0.5))  # Adding dropout\n",
    "model.add(Dense(128, activation='relu'))\n",
    "model.add(Dropout(0.5))  # Adding dropout\n",
    "model.add(Dense(64, activation='relu'))\n",
    "model.add(Dense(1, activation='sigmoid'))  \n",
    "\n",
    "model.compile(optimizer=Adam(), loss='binary_crossentropy', metrics=['accuracy'])\n",
    "\n",
    "# Early stopping to prevent overfitting\n",
    "early_stopping = EarlyStopping(monitor='val_loss', patience=3, restore_best_weights=True)\n",
    "\n",
    "# Model training with validation and early stopping\n",
    "model.fit(X, y, epochs=30, batch_size=32, validation_split=0.2, callbacks=[early_stopping])\n",
    "\n",
    "# Save the model\n",
    "model.save(\"upc_type_predictor_optimized.h5\")\n",
    "print(\"Optimized model saved successfully!\")\n"
   ]
  },
  {
   "cell_type": "code",
   "execution_count": 66,
   "metadata": {},
   "outputs": [
    {
     "name": "stdout",
     "output_type": "stream",
     "text": [
      "\u001b[1m2/2\u001b[0m \u001b[32m━━━━━━━━━━━━━━━━━━━━\u001b[0m\u001b[37m\u001b[0m \u001b[1m0s\u001b[0m 13ms/step\n",
      "[[24  4  0]\n",
      " [ 1 30  0]\n",
      " [ 0  1  0]]\n"
     ]
    }
   ],
   "source": [
    "from sklearn.metrics import confusion_matrix\n",
    "import numpy as np\n",
    "\n",
    "y_pred = (model.predict(X) > 0.5).astype(\"int32\")\n",
    "cm = confusion_matrix(y, y_pred)\n",
    "print(cm)\n"
   ]
  },
  {
   "cell_type": "code",
   "execution_count": 64,
   "metadata": {},
   "outputs": [
    {
     "name": "stderr",
     "output_type": "stream",
     "text": [
      "WARNING:absl:Compiled the loaded model, but the compiled metrics have yet to be built. `model.compile_metrics` will be empty until you train or evaluate the model.\n"
     ]
    }
   ],
   "source": [
    "import pandas as pd\n",
    "from pyzbar.pyzbar import decode\n",
    "import tensorflow as tf\n",
    "import numpy as np\n",
    "\n",
    "# Function to load the trained model\n",
    "def load_model(model_path=\"upc_type_predictor.h5\"):\n",
    "    return tf.keras.models.load_model(model_path)\n",
    "\n",
    "# Load the UPC type CSV\n",
    "upc_data = pd.read_csv(\"D:/2024_09_MSIB Bangkit/scaneat_/upc_type.csv\")\n",
    "\n",
    "# Ensure the UPC codes in the CSV are strings and remove any extra whitespace\n",
    "upc_data['upc'] = upc_data['upc'].astype(str).str.strip()\n",
    "\n",
    "# Encode the 'type' column (food or beverage) into numeric values\n",
    "from sklearn.preprocessing import LabelEncoder\n",
    "label_encoder = LabelEncoder()\n",
    "upc_data['encoded_type'] = label_encoder.fit_transform(upc_data['type'])\n",
    "\n",
    "# Prepare the UPC dictionary for quick lookup\n",
    "upc_dict = dict(zip(upc_data['upc'], upc_data['type']))\n",
    "\n",
    "# Function to preprocess and predict the product type based on UPC\n",
    "def predict_product_type(upc_code, model):\n",
    "    # Encode the UPC code (convert to numeric representation)\n",
    "    upc_code_numeric = pd.Series(upc_code).astype('category').cat.codes[0]\n",
    "\n",
    "    # Predict the product type using the trained model\n",
    "    prediction = model.predict(np.array([upc_code_numeric]))\n",
    "    predicted_class = np.round(prediction[0][0])\n",
    "\n",
    "    # Map prediction to type\n",
    "    if predicted_class == 0:\n",
    "        return \"Food\"\n",
    "    else:\n",
    "        return \"Beverage\"\n",
    "\n",
    "# Function to process the uploaded image and make predictions\n",
    "def process_image(image_path, model):\n",
    "    # Load the image\n",
    "    import cv2\n",
    "    frame = cv2.imread(image_path)\n",
    "\n",
    "    # Decode the UPC barcode from the image\n",
    "    barcodes = decode(frame)\n",
    "    for barcode in barcodes:\n",
    "        # Get the barcode data (UPC code) as a string\n",
    "        upc_code = barcode.data.decode('utf-8').strip()\n",
    "\n",
    "        # Debug: print the UPC code being processed\n",
    "        print(f\"Detected UPC code: {upc_code}\")\n",
    "\n",
    "        # Check if the UPC code is in the dictionary\n",
    "        if upc_code in upc_dict:\n",
    "            product_type = upc_dict[upc_code]\n",
    "            print(f\"UPC: {upc_code}, Type: {product_type}\")\n",
    "\n",
    "            # Predict the product type (Food or Beverage) based on UPC code\n",
    "            predicted_type = predict_product_type(upc_code, model)\n",
    "            print(f\"Predicted Type for UPC {upc_code}: {predicted_type}\")\n",
    "\n",
    "        else:\n",
    "            print(f\"UPC {upc_code} not found in the database\")\n",
    "\n",
    "# Load the trained model\n",
    "model = load_model(\"upc_type_predictor_optimized.h5\")"
   ]
  },
  {
   "cell_type": "code",
   "execution_count": 65,
   "metadata": {},
   "outputs": [
    {
     "name": "stdout",
     "output_type": "stream",
     "text": [
      "Detected UPC code: 8996001354063\n",
      "UPC: 8996001354063, Type: food\n",
      "\u001b[1m1/1\u001b[0m \u001b[32m━━━━━━━━━━━━━━━━━━━━\u001b[0m\u001b[37m\u001b[0m \u001b[1m0s\u001b[0m 53ms/step\n",
      "Predicted Type for UPC 8996001354063: Beverage\n"
     ]
    }
   ],
   "source": [
    "# Example image path (replace with the image path you want to use)\n",
    "image_path = r\"D:\\2024_09_MSIB Bangkit\\scaneat_\\dataset\\8996001354063\\27.png\"  # Update this path\n",
    "\n",
    "# Process the uploaded image and print predictions\n",
    "process_image(image_path, model)\n"
   ]
  }
 ],
 "metadata": {
  "kernelspec": {
   "display_name": "Python 3",
   "language": "python",
   "name": "python3"
  },
  "language_info": {
   "codemirror_mode": {
    "name": "ipython",
    "version": 3
   },
   "file_extension": ".py",
   "mimetype": "text/x-python",
   "name": "python",
   "nbconvert_exporter": "python",
   "pygments_lexer": "ipython3",
   "version": "3.12.1"
  }
 },
 "nbformat": 4,
 "nbformat_minor": 2
}
