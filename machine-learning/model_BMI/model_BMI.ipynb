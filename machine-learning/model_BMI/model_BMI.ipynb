{
 "cells": [
  {
   "cell_type": "markdown",
   "metadata": {},
   "source": [
    "# ScanEat Model: BMI"
   ]
  },
  {
   "cell_type": "markdown",
   "metadata": {},
   "source": [
    "## Instalation "
   ]
  },
  {
   "cell_type": "code",
   "execution_count": 3,
   "metadata": {},
   "outputs": [],
   "source": [
    "# Instalation: pandas, numpy, tensorflow, matplotlib, scikit-learn, jupyter\n",
    "\n",
    "# Basic Imports \n",
    "import numpy as np\n",
    "import pandas as pd\n",
    "from datetime import datetime\n",
    "import matplotlib.pyplot as plt\n",
    "from tabulate import tabulate\n",
    "\n",
    "# Machine Learning Imports\n",
    "import tensorflow as tf\n",
    "from tensorflow.keras.models import Sequential \n",
    "from tensorflow.keras.layers import Dense, Input\n",
    "from sklearn.preprocessing import StandardScaler\n",
    "from sklearn.model_selection import train_test_split "
   ]
  },
  {
   "cell_type": "markdown",
   "metadata": {},
   "source": [
    "## User Data Preprocessing"
   ]
  },
  {
   "cell_type": "code",
   "execution_count": 19,
   "metadata": {},
   "outputs": [
    {
     "data": {
      "text/html": [
       "<div>\n",
       "<style scoped>\n",
       "    .dataframe tbody tr th:only-of-type {\n",
       "        vertical-align: middle;\n",
       "    }\n",
       "\n",
       "    .dataframe tbody tr th {\n",
       "        vertical-align: top;\n",
       "    }\n",
       "\n",
       "    .dataframe thead th {\n",
       "        text-align: right;\n",
       "    }\n",
       "</style>\n",
       "<table border=\"1\" class=\"dataframe\">\n",
       "  <thead>\n",
       "    <tr style=\"text-align: right;\">\n",
       "      <th></th>\n",
       "      <th>Gender</th>\n",
       "      <th>Height</th>\n",
       "      <th>Weight</th>\n",
       "      <th>Index</th>\n",
       "    </tr>\n",
       "  </thead>\n",
       "  <tbody>\n",
       "    <tr>\n",
       "      <th>0</th>\n",
       "      <td>Male</td>\n",
       "      <td>174</td>\n",
       "      <td>96</td>\n",
       "      <td>4</td>\n",
       "    </tr>\n",
       "    <tr>\n",
       "      <th>1</th>\n",
       "      <td>Male</td>\n",
       "      <td>189</td>\n",
       "      <td>87</td>\n",
       "      <td>2</td>\n",
       "    </tr>\n",
       "    <tr>\n",
       "      <th>2</th>\n",
       "      <td>Female</td>\n",
       "      <td>185</td>\n",
       "      <td>110</td>\n",
       "      <td>4</td>\n",
       "    </tr>\n",
       "    <tr>\n",
       "      <th>3</th>\n",
       "      <td>Female</td>\n",
       "      <td>195</td>\n",
       "      <td>104</td>\n",
       "      <td>3</td>\n",
       "    </tr>\n",
       "    <tr>\n",
       "      <th>4</th>\n",
       "      <td>Male</td>\n",
       "      <td>149</td>\n",
       "      <td>61</td>\n",
       "      <td>3</td>\n",
       "    </tr>\n",
       "  </tbody>\n",
       "</table>\n",
       "</div>"
      ],
      "text/plain": [
       "   Gender  Height  Weight  Index\n",
       "0    Male     174      96      4\n",
       "1    Male     189      87      2\n",
       "2  Female     185     110      4\n",
       "3  Female     195     104      3\n",
       "4    Male     149      61      3"
      ]
     },
     "execution_count": 19,
     "metadata": {},
     "output_type": "execute_result"
    }
   ],
   "source": [
    "# Loading Dataset \n",
    "\n",
    "file_path = r\"D:\\2024_09_MSIB Bangkit\\scaneat\\bmi.csv\"\n",
    "user_data = pd.read_csv(file_path)\n",
    "\n",
    "user_data.head()"
   ]
  },
  {
   "cell_type": "code",
   "execution_count": null,
   "metadata": {},
   "outputs": [
    {
     "data": {
      "text/html": [
       "<div>\n",
       "<style scoped>\n",
       "    .dataframe tbody tr th:only-of-type {\n",
       "        vertical-align: middle;\n",
       "    }\n",
       "\n",
       "    .dataframe tbody tr th {\n",
       "        vertical-align: top;\n",
       "    }\n",
       "\n",
       "    .dataframe thead th {\n",
       "        text-align: right;\n",
       "    }\n",
       "</style>\n",
       "<table border=\"1\" class=\"dataframe\">\n",
       "  <thead>\n",
       "    <tr style=\"text-align: right;\">\n",
       "      <th></th>\n",
       "      <th>Gender</th>\n",
       "      <th>Height</th>\n",
       "      <th>Weight</th>\n",
       "      <th>Index</th>\n",
       "      <th>Height_m</th>\n",
       "      <th>BMI</th>\n",
       "    </tr>\n",
       "  </thead>\n",
       "  <tbody>\n",
       "    <tr>\n",
       "      <th>0</th>\n",
       "      <td>1</td>\n",
       "      <td>174</td>\n",
       "      <td>96</td>\n",
       "      <td>4</td>\n",
       "      <td>1.74</td>\n",
       "      <td>31.708284</td>\n",
       "    </tr>\n",
       "    <tr>\n",
       "      <th>1</th>\n",
       "      <td>1</td>\n",
       "      <td>189</td>\n",
       "      <td>87</td>\n",
       "      <td>2</td>\n",
       "      <td>1.89</td>\n",
       "      <td>24.355421</td>\n",
       "    </tr>\n",
       "    <tr>\n",
       "      <th>2</th>\n",
       "      <td>0</td>\n",
       "      <td>185</td>\n",
       "      <td>110</td>\n",
       "      <td>4</td>\n",
       "      <td>1.85</td>\n",
       "      <td>32.140248</td>\n",
       "    </tr>\n",
       "    <tr>\n",
       "      <th>3</th>\n",
       "      <td>0</td>\n",
       "      <td>195</td>\n",
       "      <td>104</td>\n",
       "      <td>3</td>\n",
       "      <td>1.95</td>\n",
       "      <td>27.350427</td>\n",
       "    </tr>\n",
       "    <tr>\n",
       "      <th>4</th>\n",
       "      <td>1</td>\n",
       "      <td>149</td>\n",
       "      <td>61</td>\n",
       "      <td>3</td>\n",
       "      <td>1.49</td>\n",
       "      <td>27.476240</td>\n",
       "    </tr>\n",
       "  </tbody>\n",
       "</table>\n",
       "</div>"
      ],
      "text/plain": [
       "   Gender  Height  Weight  Index  Height_m        BMI\n",
       "0       1     174      96      4      1.74  31.708284\n",
       "1       1     189      87      2      1.89  24.355421\n",
       "2       0     185     110      4      1.85  32.140248\n",
       "3       0     195     104      3      1.95  27.350427\n",
       "4       1     149      61      3      1.49  27.476240"
      ]
     },
     "execution_count": 20,
     "metadata": {},
     "output_type": "execute_result"
    }
   ],
   "source": [
    "# Creating BMI as a Continuous Value, counted using formula (weight/(height)**2)\n",
    "\n",
    "user_data['Height_m'] = user_data['Height']/ 100 # converting height from cm to meters\n",
    "user_data['Gender'] = user_data['Gender'].map({'Male' : 1, 'Female': 0}) # Map Gender column to binary values:'Male: 1', 'Female: 0'\n",
    "user_data['BMI'] = user_data['Weight'] / (user_data['Height_m']**2)\n",
    "\n",
    "\n",
    "user_data.head()"
   ]
  },
  {
   "cell_type": "markdown",
   "metadata": {},
   "source": [
    "## Generating Model for BMI Prediction"
   ]
  },
  {
   "cell_type": "markdown",
   "metadata": {},
   "source": [
    "### Defining Features "
   ]
  },
  {
   "cell_type": "code",
   "execution_count": 21,
   "metadata": {},
   "outputs": [],
   "source": [
    "# Defining Features \n",
    "\n",
    "X = user_data[[\"Gender\", \"Height\", \"Weight\"]].values\n",
    "y = user_data['BMI'].values\n",
    "\n",
    "# Split the data into training, validation, and testing sets\n",
    "\n",
    "X_train, X_temp, y_train, y_temp = train_test_split(X, y, test_size=0.3, random_state=42)\n",
    "X_val, X_test, y_val, y_test = train_test_split(X_temp, y_temp, test_size=0.5, random_state=42)\n",
    "\n",
    "# Normalize the input features \n",
    "\n",
    "scaler = StandardScaler()\n",
    "X_train = scaler.fit_transform(X_train)\n",
    "X_val = scaler.transform(X_val)\n",
    "X_test = scaler.transform(X_test)"
   ]
  },
  {
   "cell_type": "markdown",
   "metadata": {},
   "source": [
    "### Defining The Neural Network \n"
   ]
  },
  {
   "cell_type": "code",
   "execution_count": 22,
   "metadata": {},
   "outputs": [
    {
     "name": "stderr",
     "output_type": "stream",
     "text": [
      "c:\\Users\\Lenovo\\AppData\\Local\\Programs\\Python\\Python312\\Lib\\site-packages\\keras\\src\\layers\\core\\dense.py:87: UserWarning: Do not pass an `input_shape`/`input_dim` argument to a layer. When using Sequential models, prefer using an `Input(shape)` object as the first layer in the model instead.\n",
      "  super().__init__(activity_regularizer=activity_regularizer, **kwargs)\n"
     ]
    }
   ],
   "source": [
    "# Definining The Neural Network Model \n",
    "\n",
    "model_BMI = tf.keras.Sequential([\n",
    "    tf.keras.layers.Dense(64, activation='relu', input_shape=(X_train.shape[1],)), \n",
    "    tf.keras.layers.Dense(32, activation='relu'), \n",
    "    tf.keras.layers.Dense(1)\n",
    "])\n",
    "\n",
    "model_BMI.compile(optimizer='adam', loss='mean_squared_error', metrics=['mae'])"
   ]
  },
  {
   "cell_type": "markdown",
   "metadata": {},
   "source": [
    "### Training The Model "
   ]
  },
  {
   "cell_type": "code",
   "execution_count": 23,
   "metadata": {},
   "outputs": [
    {
     "name": "stdout",
     "output_type": "stream",
     "text": [
      "Epoch 1/50\n",
      "\u001b[1m11/11\u001b[0m \u001b[32m━━━━━━━━━━━━━━━━━━━━\u001b[0m\u001b[37m\u001b[0m \u001b[1m1s\u001b[0m 14ms/step - loss: 1594.5175 - mae: 37.6213 - val_loss: 1690.0181 - val_mae: 38.1560\n",
      "Epoch 2/50\n",
      "\u001b[1m11/11\u001b[0m \u001b[32m━━━━━━━━━━━━━━━━━━━━\u001b[0m\u001b[37m\u001b[0m \u001b[1m0s\u001b[0m 5ms/step - loss: 1615.6051 - mae: 37.6795 - val_loss: 1657.0585 - val_mae: 37.7503\n",
      "Epoch 3/50\n",
      "\u001b[1m11/11\u001b[0m \u001b[32m━━━━━━━━━━━━━━━━━━━━\u001b[0m\u001b[37m\u001b[0m \u001b[1m0s\u001b[0m 5ms/step - loss: 1434.8353 - mae: 35.5981 - val_loss: 1617.2230 - val_mae: 37.2508\n",
      "Epoch 4/50\n",
      "\u001b[1m11/11\u001b[0m \u001b[32m━━━━━━━━━━━━━━━━━━━━\u001b[0m\u001b[37m\u001b[0m \u001b[1m0s\u001b[0m 5ms/step - loss: 1401.0150 - mae: 35.0850 - val_loss: 1565.5377 - val_mae: 36.5984\n",
      "Epoch 5/50\n",
      "\u001b[1m11/11\u001b[0m \u001b[32m━━━━━━━━━━━━━━━━━━━━\u001b[0m\u001b[37m\u001b[0m \u001b[1m0s\u001b[0m 6ms/step - loss: 1481.1998 - mae: 36.1586 - val_loss: 1497.5195 - val_mae: 35.7303\n",
      "Epoch 6/50\n",
      "\u001b[1m11/11\u001b[0m \u001b[32m━━━━━━━━━━━━━━━━━━━━\u001b[0m\u001b[37m\u001b[0m \u001b[1m0s\u001b[0m 5ms/step - loss: 1374.7599 - mae: 34.5249 - val_loss: 1412.7653 - val_mae: 34.6200\n",
      "Epoch 7/50\n",
      "\u001b[1m11/11\u001b[0m \u001b[32m━━━━━━━━━━━━━━━━━━━━\u001b[0m\u001b[37m\u001b[0m \u001b[1m0s\u001b[0m 6ms/step - loss: 1223.9167 - mae: 32.5234 - val_loss: 1307.6385 - val_mae: 33.2021\n",
      "Epoch 8/50\n",
      "\u001b[1m11/11\u001b[0m \u001b[32m━━━━━━━━━━━━━━━━━━━━\u001b[0m\u001b[37m\u001b[0m \u001b[1m0s\u001b[0m 6ms/step - loss: 1170.0460 - mae: 31.3891 - val_loss: 1181.4749 - val_mae: 31.4317\n",
      "Epoch 9/50\n",
      "\u001b[1m11/11\u001b[0m \u001b[32m━━━━━━━━━━━━━━━━━━━━\u001b[0m\u001b[37m\u001b[0m \u001b[1m0s\u001b[0m 5ms/step - loss: 1011.9237 - mae: 29.4000 - val_loss: 1035.2030 - val_mae: 29.2620\n",
      "Epoch 10/50\n",
      "\u001b[1m11/11\u001b[0m \u001b[32m━━━━━━━━━━━━━━━━━━━━\u001b[0m\u001b[37m\u001b[0m \u001b[1m0s\u001b[0m 5ms/step - loss: 913.9540 - mae: 27.5471 - val_loss: 869.7822 - val_mae: 26.6407\n",
      "Epoch 11/50\n",
      "\u001b[1m11/11\u001b[0m \u001b[32m━━━━━━━━━━━━━━━━━━━━\u001b[0m\u001b[37m\u001b[0m \u001b[1m0s\u001b[0m 5ms/step - loss: 687.6277 - mae: 23.6870 - val_loss: 696.1959 - val_mae: 23.6115\n",
      "Epoch 12/50\n",
      "\u001b[1m11/11\u001b[0m \u001b[32m━━━━━━━━━━━━━━━━━━━━\u001b[0m\u001b[37m\u001b[0m \u001b[1m0s\u001b[0m 5ms/step - loss: 560.9769 - mae: 21.2258 - val_loss: 520.9333 - val_mae: 20.1671\n",
      "Epoch 13/50\n",
      "\u001b[1m11/11\u001b[0m \u001b[32m━━━━━━━━━━━━━━━━━━━━\u001b[0m\u001b[37m\u001b[0m \u001b[1m0s\u001b[0m 7ms/step - loss: 431.3987 - mae: 18.4178 - val_loss: 357.4334 - val_mae: 16.4582\n",
      "Epoch 14/50\n",
      "\u001b[1m11/11\u001b[0m \u001b[32m━━━━━━━━━━━━━━━━━━━━\u001b[0m\u001b[37m\u001b[0m \u001b[1m0s\u001b[0m 6ms/step - loss: 259.4701 - mae: 14.2310 - val_loss: 225.7692 - val_mae: 12.8814\n",
      "Epoch 15/50\n",
      "\u001b[1m11/11\u001b[0m \u001b[32m━━━━━━━━━━━━━━━━━━━━\u001b[0m\u001b[37m\u001b[0m \u001b[1m0s\u001b[0m 5ms/step - loss: 153.8441 - mae: 10.4789 - val_loss: 128.7595 - val_mae: 9.6126\n",
      "Epoch 16/50\n",
      "\u001b[1m11/11\u001b[0m \u001b[32m━━━━━━━━━━━━━━━━━━━━\u001b[0m\u001b[37m\u001b[0m \u001b[1m0s\u001b[0m 5ms/step - loss: 86.9894 - mae: 7.8615 - val_loss: 68.2658 - val_mae: 7.1374\n",
      "Epoch 17/50\n",
      "\u001b[1m11/11\u001b[0m \u001b[32m━━━━━━━━━━━━━━━━━━━━\u001b[0m\u001b[37m\u001b[0m \u001b[1m0s\u001b[0m 5ms/step - loss: 44.2684 - mae: 5.6251 - val_loss: 37.0146 - val_mae: 5.3459\n",
      "Epoch 18/50\n",
      "\u001b[1m11/11\u001b[0m \u001b[32m━━━━━━━━━━━━━━━━━━━━\u001b[0m\u001b[37m\u001b[0m \u001b[1m0s\u001b[0m 6ms/step - loss: 28.3607 - mae: 4.5242 - val_loss: 23.3454 - val_mae: 4.2311\n",
      "Epoch 19/50\n",
      "\u001b[1m11/11\u001b[0m \u001b[32m━━━━━━━━━━━━━━━━━━━━\u001b[0m\u001b[37m\u001b[0m \u001b[1m0s\u001b[0m 6ms/step - loss: 20.5174 - mae: 3.7703 - val_loss: 18.1095 - val_mae: 3.6508\n",
      "Epoch 20/50\n",
      "\u001b[1m11/11\u001b[0m \u001b[32m━━━━━━━━━━━━━━━━━━━━\u001b[0m\u001b[37m\u001b[0m \u001b[1m0s\u001b[0m 6ms/step - loss: 19.0089 - mae: 3.6319 - val_loss: 16.1814 - val_mae: 3.4103\n",
      "Epoch 21/50\n",
      "\u001b[1m11/11\u001b[0m \u001b[32m━━━━━━━━━━━━━━━━━━━━\u001b[0m\u001b[37m\u001b[0m \u001b[1m0s\u001b[0m 5ms/step - loss: 17.0580 - mae: 3.3756 - val_loss: 15.5154 - val_mae: 3.3232\n",
      "Epoch 22/50\n",
      "\u001b[1m11/11\u001b[0m \u001b[32m━━━━━━━━━━━━━━━━━━━━\u001b[0m\u001b[37m\u001b[0m \u001b[1m0s\u001b[0m 5ms/step - loss: 16.7105 - mae: 3.2957 - val_loss: 15.2661 - val_mae: 3.3003\n",
      "Epoch 23/50\n",
      "\u001b[1m11/11\u001b[0m \u001b[32m━━━━━━━━━━━━━━━━━━━━\u001b[0m\u001b[37m\u001b[0m \u001b[1m0s\u001b[0m 5ms/step - loss: 15.0128 - mae: 3.1711 - val_loss: 14.8855 - val_mae: 3.2612\n",
      "Epoch 24/50\n",
      "\u001b[1m11/11\u001b[0m \u001b[32m━━━━━━━━━━━━━━━━━━━━\u001b[0m\u001b[37m\u001b[0m \u001b[1m0s\u001b[0m 5ms/step - loss: 13.6021 - mae: 3.0037 - val_loss: 14.4515 - val_mae: 3.2162\n",
      "Epoch 25/50\n",
      "\u001b[1m11/11\u001b[0m \u001b[32m━━━━━━━━━━━━━━━━━━━━\u001b[0m\u001b[37m\u001b[0m \u001b[1m0s\u001b[0m 5ms/step - loss: 14.7010 - mae: 3.1885 - val_loss: 14.0380 - val_mae: 3.1705\n",
      "Epoch 26/50\n",
      "\u001b[1m11/11\u001b[0m \u001b[32m━━━━━━━━━━━━━━━━━━━━\u001b[0m\u001b[37m\u001b[0m \u001b[1m0s\u001b[0m 5ms/step - loss: 14.0937 - mae: 3.1098 - val_loss: 13.5792 - val_mae: 3.1209\n",
      "Epoch 27/50\n",
      "\u001b[1m11/11\u001b[0m \u001b[32m━━━━━━━━━━━━━━━━━━━━\u001b[0m\u001b[37m\u001b[0m \u001b[1m0s\u001b[0m 5ms/step - loss: 12.6469 - mae: 2.9336 - val_loss: 13.1385 - val_mae: 3.0683\n",
      "Epoch 28/50\n",
      "\u001b[1m11/11\u001b[0m \u001b[32m━━━━━━━━━━━━━━━━━━━━\u001b[0m\u001b[37m\u001b[0m \u001b[1m0s\u001b[0m 5ms/step - loss: 11.9145 - mae: 2.8588 - val_loss: 12.6807 - val_mae: 3.0146\n",
      "Epoch 29/50\n",
      "\u001b[1m11/11\u001b[0m \u001b[32m━━━━━━━━━━━━━━━━━━━━\u001b[0m\u001b[37m\u001b[0m \u001b[1m0s\u001b[0m 5ms/step - loss: 11.8514 - mae: 2.8216 - val_loss: 12.2326 - val_mae: 2.9621\n",
      "Epoch 30/50\n",
      "\u001b[1m11/11\u001b[0m \u001b[32m━━━━━━━━━━━━━━━━━━━━\u001b[0m\u001b[37m\u001b[0m \u001b[1m0s\u001b[0m 5ms/step - loss: 11.7586 - mae: 2.8030 - val_loss: 11.8267 - val_mae: 2.9103\n",
      "Epoch 31/50\n",
      "\u001b[1m11/11\u001b[0m \u001b[32m━━━━━━━━━━━━━━━━━━━━\u001b[0m\u001b[37m\u001b[0m \u001b[1m0s\u001b[0m 5ms/step - loss: 11.1840 - mae: 2.7140 - val_loss: 11.4211 - val_mae: 2.8618\n",
      "Epoch 32/50\n",
      "\u001b[1m11/11\u001b[0m \u001b[32m━━━━━━━━━━━━━━━━━━━━\u001b[0m\u001b[37m\u001b[0m \u001b[1m0s\u001b[0m 5ms/step - loss: 10.8081 - mae: 2.7405 - val_loss: 11.0828 - val_mae: 2.8180\n",
      "Epoch 33/50\n",
      "\u001b[1m11/11\u001b[0m \u001b[32m━━━━━━━━━━━━━━━━━━━━\u001b[0m\u001b[37m\u001b[0m \u001b[1m0s\u001b[0m 5ms/step - loss: 11.0630 - mae: 2.7095 - val_loss: 10.7896 - val_mae: 2.7765\n",
      "Epoch 34/50\n",
      "\u001b[1m11/11\u001b[0m \u001b[32m━━━━━━━━━━━━━━━━━━━━\u001b[0m\u001b[37m\u001b[0m \u001b[1m0s\u001b[0m 5ms/step - loss: 10.1941 - mae: 2.6614 - val_loss: 10.4011 - val_mae: 2.7290\n",
      "Epoch 35/50\n",
      "\u001b[1m11/11\u001b[0m \u001b[32m━━━━━━━━━━━━━━━━━━━━\u001b[0m\u001b[37m\u001b[0m \u001b[1m0s\u001b[0m 5ms/step - loss: 10.0241 - mae: 2.5904 - val_loss: 10.0989 - val_mae: 2.6891\n",
      "Epoch 36/50\n",
      "\u001b[1m11/11\u001b[0m \u001b[32m━━━━━━━━━━━━━━━━━━━━\u001b[0m\u001b[37m\u001b[0m \u001b[1m0s\u001b[0m 5ms/step - loss: 10.1452 - mae: 2.6624 - val_loss: 9.7989 - val_mae: 2.6483\n",
      "Epoch 37/50\n",
      "\u001b[1m11/11\u001b[0m \u001b[32m━━━━━━━━━━━━━━━━━━━━\u001b[0m\u001b[37m\u001b[0m \u001b[1m0s\u001b[0m 6ms/step - loss: 10.1986 - mae: 2.6562 - val_loss: 9.4153 - val_mae: 2.5967\n",
      "Epoch 38/50\n",
      "\u001b[1m11/11\u001b[0m \u001b[32m━━━━━━━━━━━━━━━━━━━━\u001b[0m\u001b[37m\u001b[0m \u001b[1m0s\u001b[0m 6ms/step - loss: 9.4247 - mae: 2.4923 - val_loss: 9.0864 - val_mae: 2.5532\n",
      "Epoch 39/50\n",
      "\u001b[1m11/11\u001b[0m \u001b[32m━━━━━━━━━━━━━━━━━━━━\u001b[0m\u001b[37m\u001b[0m \u001b[1m0s\u001b[0m 5ms/step - loss: 8.7101 - mae: 2.4246 - val_loss: 8.7823 - val_mae: 2.5092\n",
      "Epoch 40/50\n",
      "\u001b[1m11/11\u001b[0m \u001b[32m━━━━━━━━━━━━━━━━━━━━\u001b[0m\u001b[37m\u001b[0m \u001b[1m0s\u001b[0m 5ms/step - loss: 8.8582 - mae: 2.4361 - val_loss: 8.6005 - val_mae: 2.4793\n",
      "Epoch 41/50\n",
      "\u001b[1m11/11\u001b[0m \u001b[32m━━━━━━━━━━━━━━━━━━━━\u001b[0m\u001b[37m\u001b[0m \u001b[1m0s\u001b[0m 5ms/step - loss: 8.0831 - mae: 2.3332 - val_loss: 8.3091 - val_mae: 2.4388\n",
      "Epoch 42/50\n",
      "\u001b[1m11/11\u001b[0m \u001b[32m━━━━━━━━━━━━━━━━━━━━\u001b[0m\u001b[37m\u001b[0m \u001b[1m0s\u001b[0m 6ms/step - loss: 8.4862 - mae: 2.3837 - val_loss: 8.0480 - val_mae: 2.4004\n",
      "Epoch 43/50\n",
      "\u001b[1m11/11\u001b[0m \u001b[32m━━━━━━━━━━━━━━━━━━━━\u001b[0m\u001b[37m\u001b[0m \u001b[1m0s\u001b[0m 5ms/step - loss: 8.2628 - mae: 2.3190 - val_loss: 7.8810 - val_mae: 2.3719\n",
      "Epoch 44/50\n",
      "\u001b[1m11/11\u001b[0m \u001b[32m━━━━━━━━━━━━━━━━━━━━\u001b[0m\u001b[37m\u001b[0m \u001b[1m0s\u001b[0m 5ms/step - loss: 8.0091 - mae: 2.3401 - val_loss: 7.5726 - val_mae: 2.3275\n",
      "Epoch 45/50\n",
      "\u001b[1m11/11\u001b[0m \u001b[32m━━━━━━━━━━━━━━━━━━━━\u001b[0m\u001b[37m\u001b[0m \u001b[1m0s\u001b[0m 5ms/step - loss: 6.9575 - mae: 2.1155 - val_loss: 7.2958 - val_mae: 2.2859\n",
      "Epoch 46/50\n",
      "\u001b[1m11/11\u001b[0m \u001b[32m━━━━━━━━━━━━━━━━━━━━\u001b[0m\u001b[37m\u001b[0m \u001b[1m0s\u001b[0m 6ms/step - loss: 7.2969 - mae: 2.1835 - val_loss: 7.0560 - val_mae: 2.2492\n",
      "Epoch 47/50\n",
      "\u001b[1m11/11\u001b[0m \u001b[32m━━━━━━━━━━━━━━━━━━━━\u001b[0m\u001b[37m\u001b[0m \u001b[1m0s\u001b[0m 5ms/step - loss: 7.0106 - mae: 2.2114 - val_loss: 6.8470 - val_mae: 2.2135\n",
      "Epoch 48/50\n",
      "\u001b[1m11/11\u001b[0m \u001b[32m━━━━━━━━━━━━━━━━━━━━\u001b[0m\u001b[37m\u001b[0m \u001b[1m0s\u001b[0m 5ms/step - loss: 6.8253 - mae: 2.1493 - val_loss: 6.6164 - val_mae: 2.1763\n",
      "Epoch 49/50\n",
      "\u001b[1m11/11\u001b[0m \u001b[32m━━━━━━━━━━━━━━━━━━━━\u001b[0m\u001b[37m\u001b[0m \u001b[1m0s\u001b[0m 6ms/step - loss: 6.9813 - mae: 2.1753 - val_loss: 6.3886 - val_mae: 2.1392\n",
      "Epoch 50/50\n",
      "\u001b[1m11/11\u001b[0m \u001b[32m━━━━━━━━━━━━━━━━━━━━\u001b[0m\u001b[37m\u001b[0m \u001b[1m0s\u001b[0m 6ms/step - loss: 5.6211 - mae: 1.9582 - val_loss: 6.1456 - val_mae: 2.0996\n",
      "\u001b[1m3/3\u001b[0m \u001b[32m━━━━━━━━━━━━━━━━━━━━\u001b[0m\u001b[37m\u001b[0m \u001b[1m0s\u001b[0m 7ms/step - loss: 4.3863 - mae: 1.7528 \n",
      "WARNING:tensorflow:5 out of the last 7 calls to <function TensorFlowTrainer.make_predict_function.<locals>.one_step_on_data_distributed at 0x000001DE4ED24D60> triggered tf.function retracing. Tracing is expensive and the excessive number of tracings could be due to (1) creating @tf.function repeatedly in a loop, (2) passing tensors with different shapes, (3) passing Python objects instead of tensors. For (1), please define your @tf.function outside of the loop. For (2), @tf.function has reduce_retracing=True option that can avoid unnecessary retracing. For (3), please refer to https://www.tensorflow.org/guide/function#controlling_retracing and https://www.tensorflow.org/api_docs/python/tf/function for  more details.\n"
     ]
    },
    {
     "name": "stderr",
     "output_type": "stream",
     "text": [
      "WARNING:tensorflow:5 out of the last 7 calls to <function TensorFlowTrainer.make_predict_function.<locals>.one_step_on_data_distributed at 0x000001DE4ED24D60> triggered tf.function retracing. Tracing is expensive and the excessive number of tracings could be due to (1) creating @tf.function repeatedly in a loop, (2) passing tensors with different shapes, (3) passing Python objects instead of tensors. For (1), please define your @tf.function outside of the loop. For (2), @tf.function has reduce_retracing=True option that can avoid unnecessary retracing. For (3), please refer to https://www.tensorflow.org/guide/function#controlling_retracing and https://www.tensorflow.org/api_docs/python/tf/function for  more details.\n"
     ]
    },
    {
     "name": "stdout",
     "output_type": "stream",
     "text": [
      "\u001b[1m1/3\u001b[0m \u001b[32m━━━━━━\u001b[0m\u001b[37m━━━━━━━━━━━━━━\u001b[0m \u001b[1m0s\u001b[0m 28ms/stepWARNING:tensorflow:6 out of the last 9 calls to <function TensorFlowTrainer.make_predict_function.<locals>.one_step_on_data_distributed at 0x000001DE4ED24D60> triggered tf.function retracing. Tracing is expensive and the excessive number of tracings could be due to (1) creating @tf.function repeatedly in a loop, (2) passing tensors with different shapes, (3) passing Python objects instead of tensors. For (1), please define your @tf.function outside of the loop. For (2), @tf.function has reduce_retracing=True option that can avoid unnecessary retracing. For (3), please refer to https://www.tensorflow.org/guide/function#controlling_retracing and https://www.tensorflow.org/api_docs/python/tf/function for  more details.\n"
     ]
    },
    {
     "name": "stderr",
     "output_type": "stream",
     "text": [
      "WARNING:tensorflow:6 out of the last 9 calls to <function TensorFlowTrainer.make_predict_function.<locals>.one_step_on_data_distributed at 0x000001DE4ED24D60> triggered tf.function retracing. Tracing is expensive and the excessive number of tracings could be due to (1) creating @tf.function repeatedly in a loop, (2) passing tensors with different shapes, (3) passing Python objects instead of tensors. For (1), please define your @tf.function outside of the loop. For (2), @tf.function has reduce_retracing=True option that can avoid unnecessary retracing. For (3), please refer to https://www.tensorflow.org/guide/function#controlling_retracing and https://www.tensorflow.org/api_docs/python/tf/function for  more details.\n"
     ]
    },
    {
     "name": "stdout",
     "output_type": "stream",
     "text": [
      "\u001b[1m3/3\u001b[0m \u001b[32m━━━━━━━━━━━━━━━━━━━━\u001b[0m\u001b[37m\u001b[0m \u001b[1m0s\u001b[0m 15ms/step\n",
      "Test MAE: 1.8516662120819092\n",
      "Predictions: [29.813753 25.665031 48.13066  22.9476   53.73397  56.831818 18.21315\n",
      " 24.745144 19.847294 23.220036 27.70633  19.844128 46.30175  62.99064\n",
      " 56.826355 25.362865 24.640396 19.635036 23.301744 66.12191  25.543343\n",
      " 28.18993  67.83143  29.886047 23.564804 45.241226 38.11743  31.249554\n",
      " 28.2556   37.322258 19.534164 27.361946 21.52629  48.62168  32.929893\n",
      " 40.06494  33.13785  72.31658  40.291496 35.392265 48.619305 51.069107\n",
      " 26.532497 69.54362  31.799513 27.2141   42.807373 20.688349 49.993446\n",
      " 62.986034 45.52376  27.556377 26.5281   35.913322 31.502365 33.373154\n",
      " 42.094223 46.55786  49.325462 40.461143 48.879467 34.12133  56.975044\n",
      " 34.02853  59.97517  22.160122 24.251518 59.75538  29.833244 45.908073\n",
      " 31.000393 35.97304  65.57781  36.86313  40.016766]\n"
     ]
    }
   ],
   "source": [
    "# Train The Model \n",
    "\n",
    "history_BMI = model_BMI.fit(\n",
    "    X_train, y_train, \n",
    "    validation_data = (X_val, y_val),\n",
    "    epochs = 50, \n",
    "    batch_size=32, \n",
    "    verbose=1\n",
    ")\n",
    "\n",
    "# Evaluate the model on the test set \n",
    "\n",
    "test_loss, test_mae = model_BMI.evaluate(X_test, y_test, verbose=1)\n",
    "\n",
    "# Make a prediction on the test \n",
    "\n",
    "y_pred = model_BMI.predict(X_test)\n",
    "\n",
    "# Display test MAE and the first few prediction \n",
    "\n",
    "print(\"Test MAE:\", test_mae)\n",
    "print(\"Predictions:\", y_pred.flatten())"
   ]
  },
  {
   "cell_type": "markdown",
   "metadata": {},
   "source": [
    "### Visualizing Training Data"
   ]
  },
  {
   "cell_type": "code",
   "execution_count": 24,
   "metadata": {},
   "outputs": [
    {
     "name": "stdout",
     "output_type": "stream",
     "text": [
      "   Actual BMI  Predicted BMI     Error\n",
      "0   30.407627      29.813753  0.593873\n",
      "1   28.010412      25.665031  2.345381\n",
      "2   48.789642      48.130661  0.658981\n",
      "3   24.857955      22.947599  1.910355\n",
      "4   52.437642      53.733971 -1.296329\n"
     ]
    }
   ],
   "source": [
    "# Checking the Actual BMI and the model counted BMI \n",
    "\n",
    "y_pred = y_pred.flatten()\n",
    "\n",
    "comparison_BMI = pd.DataFrame({\n",
    "    'Actual BMI': y_test, \n",
    "    'Predicted BMI': y_pred\n",
    "})\n",
    "\n",
    "# Error (Difference): \n",
    "\n",
    "comparison_BMI['Error'] = comparison_BMI['Actual BMI'] - comparison_BMI['Predicted BMI']\n",
    "print(comparison_BMI.head())\n",
    "comparison_BMI.to_csv('BMI_comparison.csv', index=False)"
   ]
  },
  {
   "cell_type": "code",
   "execution_count": 25,
   "metadata": {},
   "outputs": [
    {
     "data": {
      "image/png": "[encoded data removed]",
      "text/plain": [
       "<Figure size 1000x600 with 1 Axes>"
      ]
     },
     "metadata": {},
     "output_type": "display_data"
    },
    {
     "data": {
      "image/png": "[encoded data removed]",
      "text/plain": [
       "<Figure size 1000x600 with 1 Axes>"
      ]
     },
     "metadata": {},
     "output_type": "display_data"
    }
   ],
   "source": [
    "# Visualize data \n",
    "\n",
    "# Assuming 'history' is the object returned by model.fit()\n",
    "# Plot training and validation loss\n",
    "plt.figure(figsize=(10, 6))\n",
    "plt.plot(history_BMI.history['loss'], label='Training Loss')\n",
    "plt.plot(history_BMI.history['val_loss'], label='Validation Loss')\n",
    "plt.title('Model Loss over Epochs', fontsize=16)\n",
    "plt.xlabel('Epochs', fontsize=14)\n",
    "plt.ylabel('Loss', fontsize=14)\n",
    "plt.legend(fontsize=12)\n",
    "plt.grid(True)\n",
    "plt.show()\n",
    "\n",
    "# Plot training and validation MAE (if included in metrics)\n",
    "if 'mae' in history_BMI.history and 'val_mae' in history_BMI.history:\n",
    "    plt.figure(figsize=(10, 6))\n",
    "    plt.plot(history_BMI.history['mae'], label='Training MAE')\n",
    "    plt.plot(history_BMI.history['val_mae'], label='Validation MAE')\n",
    "    plt.title('Model Mean Absolute Error over Epochs', fontsize=16)\n",
    "    plt.xlabel('Epochs', fontsize=14)\n",
    "    plt.ylabel('MAE', fontsize=14)\n",
    "    plt.legend(fontsize=12)\n",
    "    plt.grid(True)\n",
    "    plt.show()\n"
   ]
  },
  {
   "cell_type": "markdown",
   "metadata": {},
   "source": [
    "### Saving The Model "
   ]
  },
  {
   "cell_type": "code",
   "execution_count": 26,
   "metadata": {},
   "outputs": [
    {
     "name": "stderr",
     "output_type": "stream",
     "text": [
      "WARNING:absl:You are saving your model as an HDF5 file via `model.save()` or `keras.saving.save_model(model)`. This file format is considered legacy. We recommend using instead the native Keras format, e.g. `model.save('my_model.keras')` or `keras.saving.save_model(model, 'my_model.keras')`. \n"
     ]
    }
   ],
   "source": [
    "# Saving the Model \n",
    "\n",
    "model_BMI.save('BMI_Model.h5')"
   ]
  },
  {
   "cell_type": "markdown",
   "metadata": {},
   "source": [
    "## Adding New Information after applying the Model BMI"
   ]
  },
  {
   "cell_type": "code",
   "execution_count": 27,
   "metadata": {},
   "outputs": [],
   "source": [
    "# Getting Status for the BMI \n",
    "\n",
    "def get_BMI_status(y_pred): \n",
    "    if y_pred < 18.5: \n",
    "        return \"Underweight\" \n",
    "    elif 18.5 <= y_pred < 24.9: \n",
    "        return \"Healthy Weight\"\n",
    "    elif 25 <= y_pred < 29.9: \n",
    "        return \"Overweight\"\n",
    "    elif 30 <= y_pred < 34.9: \n",
    "        return \"Class 1 Obesity\"\n",
    "    elif 35 <= y_pred < 39.9: \n",
    "        return \"Class 2 Obesity\"\n",
    "    else: \n",
    "        return \"Class 3 Obesity\""
   ]
  },
  {
   "cell_type": "code",
   "execution_count": 28,
   "metadata": {},
   "outputs": [
    {
     "name": "stdout",
     "output_type": "stream",
     "text": [
      "   Gender  Height  Weight  Actual BMI  Predicted BMI       BMI Status\n",
      "0       1    1.74      96   30.407627      29.813753       Overweight\n",
      "1       1    1.89      87   28.010412      25.665031       Overweight\n",
      "2       0    1.85     110   48.789642      48.130661  Class 3 Obesity\n",
      "3       0    1.95     104   24.857955      22.947599   Healthy Weight\n",
      "4       1    1.49      61   52.437642      53.733971  Class 3 Obesity\n"
     ]
    }
   ],
   "source": [
    "# Getting theh full user data\n",
    "\n",
    "user_data['Sex'] = user_data[\"Gender\"]\n",
    "user_data['Height'] = user_data[\"Height_m\"]\n",
    "user_data['Weight'] = user_data[\"Weight\"]\n",
    "user_data['Actual BMI'] = comparison_BMI['Actual BMI']\n",
    "user_data['Predicted BMI'] = comparison_BMI['Predicted BMI']\n",
    "user_data['BMI Status'] = comparison_BMI['Predicted BMI'].apply(get_BMI_status)\n",
    "\n",
    "columns_to_display = ['Gender', 'Height', 'Weight', 'Actual BMI', 'Predicted BMI', 'BMI Status']\n",
    "compiled_user_data = user_data[columns_to_display]\n",
    "print(compiled_user_data.head())\n",
    "\n",
    "# with open(\"all_users_data.md\", \"w\") as file: \n",
    "    #file.write(markdown_table)\n",
    "    \n",
    "# print(\"Markdown file saved as 'all_users data.md\")\n"
   ]
  },
  {
   "cell_type": "code",
   "execution_count": 29,
   "metadata": {},
   "outputs": [
    {
     "name": "stdout",
     "output_type": "stream",
     "text": [
      "Compiled user data saved to 'compiled_user_data.md'\n"
     ]
    }
   ],
   "source": [
    "# Save to markdown file\n",
    "with open(\"compiled_user_data.md\", \"w\") as file:\n",
    "    file.write(compiled_user_data.to_markdown(index=False))\n",
    "\n",
    "print(\"Compiled user data saved to 'compiled_user_data.md'\")\n"
   ]
  },
  {
   "cell_type": "markdown",
   "metadata": {},
   "source": [
    "## Generating Model for Daily Nutritional Intake Value"
   ]
  },
  {
   "cell_type": "markdown",
   "metadata": {},
   "source": [
    "## Dataset Preprocessing"
   ]
  },
  {
   "cell_type": "code",
   "execution_count": 41,
   "metadata": {},
   "outputs": [
    {
     "data": {
      "text/html": [
       "<div>\n",
       "<style scoped>\n",
       "    .dataframe tbody tr th:only-of-type {\n",
       "        vertical-align: middle;\n",
       "    }\n",
       "\n",
       "    .dataframe tbody tr th {\n",
       "        vertical-align: top;\n",
       "    }\n",
       "\n",
       "    .dataframe thead th {\n",
       "        text-align: right;\n",
       "    }\n",
       "</style>\n",
       "<table border=\"1\" class=\"dataframe\">\n",
       "  <thead>\n",
       "    <tr style=\"text-align: right;\">\n",
       "      <th></th>\n",
       "      <th>gender</th>\n",
       "      <th>age</th>\n",
       "      <th>bmi</th>\n",
       "      <th>Sex</th>\n",
       "    </tr>\n",
       "  </thead>\n",
       "  <tbody>\n",
       "    <tr>\n",
       "      <th>0</th>\n",
       "      <td>Female</td>\n",
       "      <td>80.0</td>\n",
       "      <td>25.19</td>\n",
       "      <td>0.0</td>\n",
       "    </tr>\n",
       "    <tr>\n",
       "      <th>1</th>\n",
       "      <td>Female</td>\n",
       "      <td>54.0</td>\n",
       "      <td>27.32</td>\n",
       "      <td>0.0</td>\n",
       "    </tr>\n",
       "    <tr>\n",
       "      <th>2</th>\n",
       "      <td>Male</td>\n",
       "      <td>28.0</td>\n",
       "      <td>27.32</td>\n",
       "      <td>1.0</td>\n",
       "    </tr>\n",
       "    <tr>\n",
       "      <th>3</th>\n",
       "      <td>Female</td>\n",
       "      <td>36.0</td>\n",
       "      <td>23.45</td>\n",
       "      <td>0.0</td>\n",
       "    </tr>\n",
       "    <tr>\n",
       "      <th>4</th>\n",
       "      <td>Male</td>\n",
       "      <td>76.0</td>\n",
       "      <td>20.14</td>\n",
       "      <td>1.0</td>\n",
       "    </tr>\n",
       "  </tbody>\n",
       "</table>\n",
       "</div>"
      ],
      "text/plain": [
       "   gender   age    bmi  Sex\n",
       "0  Female  80.0  25.19  0.0\n",
       "1  Female  54.0  27.32  0.0\n",
       "2    Male  28.0  27.32  1.0\n",
       "3  Female  36.0  23.45  0.0\n",
       "4    Male  76.0  20.14  1.0"
      ]
     },
     "execution_count": 41,
     "metadata": {},
     "output_type": "execute_result"
    }
   ],
   "source": [
    "# Loading Dataset \n",
    "\n",
    "file_path_nutr = r\"D:\\2024_09_MSIB Bangkit\\scaneat\\nutritional intake.csv\"\n",
    "nutr_data = pd.read_csv(file_path_nutr)\n",
    "nutr_data['Sex'] = nutr_data['gender'].map({'Male' : 1, 'Female': 0,}).astype(float)  # Map Gender column to binary values:'Male: 1', 'Female: 0'\n",
    "\n",
    "nutr_data.head()"
   ]
  },
  {
   "cell_type": "markdown",
   "metadata": {},
   "source": [
    "#### Counting Total Calories Intake "
   ]
  },
  {
   "cell_type": "code",
   "execution_count": 45,
   "metadata": {},
   "outputs": [
    {
     "name": "stdout",
     "output_type": "stream",
     "text": [
      "   gender   age    bmi  Sex  Total Energy (kkal)\n",
      "0  Female  80.0  25.19  0.0               1400.0\n",
      "1  Female  54.0  27.32  0.0               1800.0\n",
      "2    Male  28.0  27.32  1.0               2650.0\n",
      "3  Female  36.0  23.45  0.0               2150.0\n",
      "4    Male  76.0  20.14  1.0               1800.0\n"
     ]
    }
   ],
   "source": [
    "import pandas as pd\n",
    "\n",
    "# Load dataset\n",
    "file_path_nutr = r\"D:\\2024_09_MSIB Bangkit\\scaneat\\nutritional intake.csv\"\n",
    "nutr_data = pd.read_csv(file_path_nutr)\n",
    "\n",
    "# Map Gender column to binary values ('Male': 1, 'Female': 0)\n",
    "nutr_data['Sex'] = nutr_data['gender'].map({'Male': 1, 'Female': 0}).astype(float)\n",
    "\n",
    "# Function to calculate total calories\n",
    "def total_calories(row): \n",
    "    base_sex = row['Sex']\n",
    "    base_age = row['age']\n",
    "\n",
    "    if base_sex == 1.0 and base_age in range(10, 13): \n",
    "        return 2000\n",
    "    elif base_sex == 1.0 and base_age in range(13, 16): \n",
    "        return 2400\n",
    "    elif base_sex == 1.0 and base_age in range(16, 19): \n",
    "        return 2650\n",
    "    elif base_sex == 1.0 and base_age in range(19, 30): \n",
    "        return 2650\n",
    "    elif base_sex == 1.0 and base_age in range(29, 50): \n",
    "        return 2550\n",
    "    elif base_sex == 1.0 and base_age in range(50, 65): \n",
    "        return 2150\n",
    "    elif base_sex == 1.0 and base_age in range(65, 80): \n",
    "        return 1800\n",
    "    elif base_sex == 1.0 and base_age >= 80: \n",
    "        return 1600\n",
    "    elif base_sex == 0.0 and base_age in range(10, 13): \n",
    "        return 1900\n",
    "    elif base_sex == 0.0 and base_age in range(13, 16): \n",
    "        return 2050\n",
    "    elif base_sex == 0.0 and base_age in range(16, 19): \n",
    "        return 2100\n",
    "    elif base_sex == 0.0 and base_age in range(19, 30): \n",
    "        return 2250\n",
    "    elif base_sex == 0.0 and base_age in range(29, 50): \n",
    "        return 2150\n",
    "    elif base_sex == 0.0 and base_age in range(50, 65): \n",
    "        return 1800\n",
    "    elif base_sex == 0.0 and base_age in range(65, 80): \n",
    "        return 1550\n",
    "    elif base_sex == 0.0 and base_age >= 80: \n",
    "        return 1400\n",
    "    return None\n",
    "\n",
    "# Apply the function row-wise\n",
    "nutr_data['Total Energy (kkal)'] = nutr_data.apply(total_calories, axis=1)\n",
    "\n",
    "# Display the updated DataFrame\n",
    "print(nutr_data.head())\n"
   ]
  },
  {
   "cell_type": "markdown",
   "metadata": {},
   "source": [
    "#### Counting Total Fat Intake "
   ]
  },
  {
   "cell_type": "code",
   "execution_count": 46,
   "metadata": {},
   "outputs": [
    {
     "name": "stdout",
     "output_type": "stream",
     "text": [
      "   gender   age    bmi  Sex  Total Energy (kkal)  Total Fat (g)\n",
      "0  Female  80.0  25.19  0.0               1400.0           58.0\n",
      "1  Female  54.0  27.32  0.0               1800.0           60.0\n",
      "2    Male  28.0  27.32  1.0               2650.0           75.0\n",
      "3  Female  36.0  23.45  0.0               2150.0           60.0\n",
      "4    Male  76.0  20.14  1.0               1800.0           50.0\n"
     ]
    }
   ],
   "source": [
    "# Defining The FFS Intake \n",
    "\n",
    "def total_fat(row): \n",
    "    base_sex = row['Sex']\n",
    "    base_age = row['age']\n",
    "\n",
    "    if base_sex == 1.0 and base_age in range(10, 13): \n",
    "        return 65\n",
    "    elif base_sex == 1.0 and base_age in range(13, 16): \n",
    "        return 80\n",
    "    elif base_sex == 1.0 and base_age in range(16, 19): \n",
    "        return 85\n",
    "    elif base_sex == 1.0 and base_age in range(19, 30): \n",
    "        return 75\n",
    "    elif base_sex == 1.0 and base_age in range(29, 50): \n",
    "        return 70\n",
    "    elif base_sex == 1.0 and base_age in range(50, 65): \n",
    "        return 60\n",
    "    elif base_sex == 1.0 and base_age in range(65, 80): \n",
    "        return 50\n",
    "    elif base_sex == 1.0 and base_age >= 80: \n",
    "        return 45\n",
    "    elif base_sex == 0.0 and base_age in range(10, 13): \n",
    "        return 65\n",
    "    elif base_sex == 0.0 and base_age in range(13, 16): \n",
    "        return 70\n",
    "    elif base_sex == 0.0 and base_age in range(16, 19): \n",
    "        return 70\n",
    "    elif base_sex == 0.0 and base_age in range(19, 30): \n",
    "        return 65\n",
    "    elif base_sex == 0.0 and base_age in range(29, 50): \n",
    "        return 60\n",
    "    elif base_sex == 0.0 and base_age in range(50, 65): \n",
    "        return 60\n",
    "    elif base_sex == 0.0 and base_age in range(65, 80): \n",
    "        return 58\n",
    "    elif base_sex == 0.0 and base_age >= 80: \n",
    "        return 58\n",
    "    return None\n",
    "\n",
    "# Apply the function row-wise\n",
    "nutr_data['Total Fat (g)'] = nutr_data.apply(total_fat, axis=1)\n",
    "\n",
    "# Display the updated DataFrame\n",
    "print(nutr_data.head())"
   ]
  },
  {
   "cell_type": "markdown",
   "metadata": {},
   "source": [
    "#### Counting Total Sodium Intake"
   ]
  },
  {
   "cell_type": "code",
   "execution_count": 47,
   "metadata": {},
   "outputs": [
    {
     "name": "stdout",
     "output_type": "stream",
     "text": [
      "   gender   age    bmi  Sex  Total Energy (kkal)  Total Fat (g)  \\\n",
      "0  Female  80.0  25.19  0.0               1400.0           58.0   \n",
      "1  Female  54.0  27.32  0.0               1800.0           60.0   \n",
      "2    Male  28.0  27.32  1.0               2650.0           75.0   \n",
      "3  Female  36.0  23.45  0.0               2150.0           60.0   \n",
      "4    Male  76.0  20.14  1.0               1800.0           50.0   \n",
      "\n",
      "   Total Sodium (mg)  \n",
      "0             1000.0  \n",
      "1             1400.0  \n",
      "2             1500.0  \n",
      "3             1500.0  \n",
      "4             1100.0  \n"
     ]
    }
   ],
   "source": [
    "def total_sodium(row): \n",
    "    base_sex = row['Sex']\n",
    "    base_age = row['age']\n",
    "\n",
    "    if base_sex == 1.0 and base_age in range(10, 13): \n",
    "        return 1300\n",
    "    elif base_sex == 1.0 and base_age in range(13, 16): \n",
    "        return 1500\n",
    "    elif base_sex == 1.0 and base_age in range(16, 19): \n",
    "        return 1700\n",
    "    elif base_sex == 1.0 and base_age in range(19, 30): \n",
    "        return 1500\n",
    "    elif base_sex == 1.0 and base_age in range(29, 50): \n",
    "        return 1300\n",
    "    elif base_sex == 1.0 and base_age in range(50, 65): \n",
    "        return 1100\n",
    "    elif base_sex == 1.0 and base_age in range(65, 80): \n",
    "        return 1100\n",
    "    elif base_sex == 1.0 and base_age >= 80: \n",
    "        return 1000\n",
    "    elif base_sex == 0.0 and base_age in range(10, 13): \n",
    "        return 1400\n",
    "    elif base_sex == 0.0 and base_age in range(13, 16): \n",
    "        return 1500\n",
    "    elif base_sex == 0.0 and base_age in range(16, 19): \n",
    "        return 1600\n",
    "    elif base_sex == 0.0 and base_age in range(19, 30): \n",
    "        return 1500\n",
    "    elif base_sex == 0.0 and base_age in range(29, 50): \n",
    "        return 1500\n",
    "    elif base_sex == 0.0 and base_age in range(50, 65): \n",
    "        return 1400\n",
    "    elif base_sex == 0.0 and base_age in range(65, 80): \n",
    "        return 1200\n",
    "    elif base_sex == 0.0 and base_age >= 80: \n",
    "        return 1000\n",
    "    return None\n",
    "\n",
    "# Apply the function row-wise\n",
    "nutr_data['Total Sodium (mg)'] = nutr_data.apply(total_sodium, axis=1)\n",
    "\n",
    "# Display the updated DataFrame\n",
    "print(nutr_data.head())"
   ]
  },
  {
   "cell_type": "markdown",
   "metadata": {},
   "source": [
    "#### Counting Total Sugar Intake"
   ]
  },
  {
   "cell_type": "code",
   "execution_count": 49,
   "metadata": {},
   "outputs": [
    {
     "name": "stdout",
     "output_type": "stream",
     "text": [
      "   gender   age    bmi  Sex  Total Energy (kkal)  Total Fat (g)  \\\n",
      "0  Female  80.0  25.19  0.0               1400.0           58.0   \n",
      "1  Female  54.0  27.32  0.0               1800.0           60.0   \n",
      "2    Male  28.0  27.32  1.0               2650.0           75.0   \n",
      "3  Female  36.0  23.45  0.0               2150.0           60.0   \n",
      "4    Male  76.0  20.14  1.0               1800.0           50.0   \n",
      "\n",
      "   Total Sodium (mg)  Total Sugar (g)  \n",
      "0             1000.0            35.00  \n",
      "1             1400.0            45.00  \n",
      "2             1500.0            66.25  \n",
      "3             1500.0            53.75  \n",
      "4             1100.0            45.00  \n"
     ]
    }
   ],
   "source": [
    "# Calculate total sugar intake in grams\n",
    "def calculate_sugar_intake(row):\n",
    "    total_calories = row['Total Energy (kkal)']  \n",
    "    sugar_kcal = total_calories * 0.10  # 10% of total calorie intake\n",
    "    sugar_grams = sugar_kcal / 4  # Convert kcal to grams (1 g sugar = 4 kcal)\n",
    "    return sugar_grams\n",
    "\n",
    "# Apply the function to calculate sugar intake\n",
    "nutr_data['Total Sugar (g)'] = nutr_data.apply(calculate_sugar_intake, axis=1)\n",
    "\n",
    "# Display the updated DataFrame\n",
    "print(nutr_data.head())\n"
   ]
  },
  {
   "cell_type": "markdown",
   "metadata": {},
   "source": [
    "## Generating Model for Daily Nutrition Intake Prediction \n"
   ]
  },
  {
   "cell_type": "markdown",
   "metadata": {},
   "source": [
    "### Model Daily Calories"
   ]
  },
  {
   "cell_type": "code",
   "execution_count": null,
   "metadata": {},
   "outputs": [],
   "source": [
    "# Definining The Neural Network Model \n",
    "\n",
    "model_kcal = tf.keras.Sequential([\n",
    "    tf.keras.layers.Dense(64, activation='relu', input_shape=(X_train.shape[1],)), \n",
    "    tf.keras.layers.Dense(32, activation='relu'), \n",
    "    tf.keras.layers.Dense(1)\n",
    "])\n",
    "\n",
    "model_kcal.compile(optimizer='adam', loss='mean_squared_error', metrics=['mae'])"
   ]
  },
  {
   "cell_type": "code",
   "execution_count": null,
   "metadata": {},
   "outputs": [],
   "source": [
    "# Train The Model \n",
    "\n",
    "history_cal = model_BMI.fit(\n",
    "    X_train, y_train, \n",
    "    validation_data = (X_val, y_val),\n",
    "    epochs = 50, \n",
    "    batch_size=32, \n",
    "    verbose=1\n",
    ")\n",
    "\n",
    "# Evaluate the model on the test set \n",
    "\n",
    "test_loss, test_mae = model_BMI.evaluate(X_test, y_test, verbose=1)\n",
    "\n",
    "# Make a prediction on the test \n",
    "\n",
    "y_pred = model_BMI.predict(X_test)\n",
    "\n",
    "# Display test MAE and the first few prediction \n",
    "\n",
    "print(\"Test MAE:\", test_mae)\n",
    "print(\"Predictions:\", y_pred.flatten())"
   ]
  },
  {
   "cell_type": "code",
   "execution_count": 1,
   "metadata": {},
   "outputs": [],
   "source": [
    "# Prediction function for BMI\n",
    "from tensorflow.keras.models import load_model\n",
    "import joblib\n",
    "import numpy as np\n",
    "\n",
    "def predict_bmi(input_data, model_path, scaler_path):\n",
    "    \"\"\"\n",
    "    Predicts BMI using the trained BMI model.\n",
    "\n",
    "    Parameters:\n",
    "    - input_data: A numpy array of shape (n_samples, 3), where the columns represent [Gender, Height (cm), Weight (kg)].\n",
    "    - model_path: Path to the saved model file (e.g., 'model_BMI.h5').\n",
    "    - scaler_path: Path to the saved scaler file (e.g., 'scaler_BMI.pkl').\n",
    "\n",
    "    Returns:\n",
    "    - bmi_predictions: Predicted BMI values as a numpy array.\n",
    "    \"\"\"\n",
    "    # Load the trained BMI model\n",
    "    bmi_model = load_model(model_path)\n",
    "    \n",
    "    # Load the scaler\n",
    "    scaler = joblib.load(scaler_path)\n",
    "    \n",
    "    # Scale the input data\n",
    "    input_data_scaled = scaler.transform(input_data)\n",
    "    \n",
    "    # Predict BMI\n",
    "    bmi_predictions = bmi_model.predict(input_data_scaled).flatten()\n",
    "    \n",
    "    return bmi_predictions\n",
    "\n",
    "\n"
   ]
  },
  {
   "cell_type": "code",
   "execution_count": null,
   "metadata": {},
   "outputs": [],
   "source": []
  },
  {
   "cell_type": "code",
   "execution_count": null,
   "metadata": {},
   "outputs": [],
   "source": [
    "# Example usage\n",
    "if __name__ == \"__main__\":\n",
    "    # Example input: [Gender (1=Male, 0=Female), Height (cm), Weight (kg)]\n",
    "    example_data = np.array([[1, 180, 75]])\n",
    "    \n",
    "    # Paths to your saved model and scaler\n",
    "    model_path = r\"D:\\2024_09_MSIB Bangkit\\scaneat\\BMI_Model.h5\"\n",
    "    scaler_path = \"path/to/your/scaler_BMI.pkl\"\n",
    "\n",
    "    # Make predictions\n",
    "    bmi_prediction = predict_bmi(example_data, model_path, scaler_path)\n",
    "    print(f\"Predicted BMI: {bmi_prediction[0]}\")"
   ]
  }
 ],
 "metadata": {
  "kernelspec": {
   "display_name": "Python 3",
   "language": "python",
   "name": "python3"
  },
  "language_info": {
   "codemirror_mode": {
    "name": "ipython",
    "version": 3
   },
   "file_extension": ".py",
   "mimetype": "text/x-python",
   "name": "python",
   "nbconvert_exporter": "python",
   "pygments_lexer": "ipython3",
   "version": "3.12.1"
  }
 },
 "nbformat": 4,
 "nbformat_minor": 2
}
